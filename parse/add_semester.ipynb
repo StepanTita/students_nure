{
 "cells": [
  {
   "cell_type": "code",
   "execution_count": 1,
   "metadata": {},
   "outputs": [],
   "source": [
    "import numpy as np\n",
    "import pandas as pd\n",
    "import matplotlib.pyplot as plt\n",
    "import sklearn as skl\n",
    "import seaborn as sns\n",
    "import re\n",
    "import os"
   ]
  },
  {
   "cell_type": "code",
   "execution_count": 2,
   "metadata": {},
   "outputs": [
    {
     "name": "stdout",
     "output_type": "stream",
     "text": [
      "/home/stepan/kaggle/students_nure\n"
     ]
    }
   ],
   "source": [
    "%cd /home/stepan/kaggle/students_nure"
   ]
  },
  {
   "cell_type": "code",
   "execution_count": 3,
   "metadata": {},
   "outputs": [
    {
     "name": "stdout",
     "output_type": "stream",
     "text": [
      "\u001b[0m\u001b[01;34mdata\u001b[0m/  \u001b[01;34mparse\u001b[0m/  \u001b[01;34mreview\u001b[0m/\r\n"
     ]
    }
   ],
   "source": [
    "%ls"
   ]
  },
  {
   "cell_type": "code",
   "execution_count": 4,
   "metadata": {},
   "outputs": [
    {
     "name": "stdout",
     "output_type": "stream",
     "text": [
      "\u001b[0m\u001b[01;34mparsed\u001b[0m/  \u001b[01;34mraw\u001b[0m/  result.pdf\r\n"
     ]
    }
   ],
   "source": [
    "%ls data/"
   ]
  },
  {
   "cell_type": "code",
   "execution_count": 5,
   "metadata": {},
   "outputs": [],
   "source": [
    "data_path = 'data/parsed/'\n",
    "data_files = [f for f in os.listdir(data_path) if re.match(r'pzpi.+', f)]"
   ]
  },
  {
   "cell_type": "code",
   "execution_count": 6,
   "metadata": {},
   "outputs": [
    {
     "data": {
      "text/plain": [
       "['pzpi3.csv', 'pzpi1.csv', 'pzpi5.csv', 'pzpi0.csv', 'pzpi6.csv']"
      ]
     },
     "execution_count": 6,
     "metadata": {},
     "output_type": "execute_result"
    }
   ],
   "source": [
    "data_files"
   ]
  },
  {
   "cell_type": "code",
   "execution_count": 7,
   "metadata": {},
   "outputs": [
    {
     "name": "stdout",
     "output_type": "stream",
     "text": [
      "pzpi3\n",
      "pzpi1\n",
      "pzpi5\n",
      "pzpi0\n",
      "pzpi6\n"
     ]
    }
   ],
   "source": [
    "dframes = []\n",
    "for file in data_files:\n",
    "    name = file[:-4]\n",
    "    print(name)\n",
    "    df = pd.read_csv(data_path + file)\n",
    "    df.loc[:, 'semester'] = name[-1]\n",
    "    dframes.append(df)"
   ]
  },
  {
   "cell_type": "code",
   "execution_count": 8,
   "metadata": {},
   "outputs": [
    {
     "data": {
      "text/html": [
       "<div>\n",
       "<style scoped>\n",
       "    .dataframe tbody tr th:only-of-type {\n",
       "        vertical-align: middle;\n",
       "    }\n",
       "\n",
       "    .dataframe tbody tr th {\n",
       "        vertical-align: top;\n",
       "    }\n",
       "\n",
       "    .dataframe thead th {\n",
       "        text-align: right;\n",
       "    }\n",
       "</style>\n",
       "<table border=\"1\" class=\"dataframe\">\n",
       "  <thead>\n",
       "    <tr style=\"text-align: right;\">\n",
       "      <th></th>\n",
       "      <th>П.І.Б</th>\n",
       "      <th>Рейтинг</th>\n",
       "      <th>Група</th>\n",
       "      <th>Додаткова\\rінформація</th>\n",
       "      <th>semester</th>\n",
       "    </tr>\n",
       "  </thead>\n",
       "  <tbody>\n",
       "    <tr>\n",
       "      <th>0</th>\n",
       "      <td>Кудінова Анна Олександрівна</td>\n",
       "      <td>98.407</td>\n",
       "      <td>ПЗПІ-17-4 (анг)</td>\n",
       "      <td>NaN</td>\n",
       "      <td>3</td>\n",
       "    </tr>\n",
       "    <tr>\n",
       "      <th>1</th>\n",
       "      <td>Ховрат Артем Вячеславович</td>\n",
       "      <td>98.112</td>\n",
       "      <td>ПЗПІ-17-3 (анг)</td>\n",
       "      <td>NaN</td>\n",
       "      <td>3</td>\n",
       "    </tr>\n",
       "    <tr>\n",
       "      <th>2</th>\n",
       "      <td>Титаренко Степан Андрійович</td>\n",
       "      <td>97.846</td>\n",
       "      <td>ПЗПІ-17-3 (анг)</td>\n",
       "      <td>NaN</td>\n",
       "      <td>3</td>\n",
       "    </tr>\n",
       "    <tr>\n",
       "      <th>3</th>\n",
       "      <td>Тесленко Денис Максимович</td>\n",
       "      <td>97.314</td>\n",
       "      <td>ПЗПІ-17-3 (анг)</td>\n",
       "      <td>NaN</td>\n",
       "      <td>3</td>\n",
       "    </tr>\n",
       "    <tr>\n",
       "      <th>4</th>\n",
       "      <td>Лузан Микита Олександрович</td>\n",
       "      <td>96.95</td>\n",
       "      <td>ПЗПІ-17-1 (анг)</td>\n",
       "      <td>NaN</td>\n",
       "      <td>3</td>\n",
       "    </tr>\n",
       "    <tr>\n",
       "      <th>...</th>\n",
       "      <td>...</td>\n",
       "      <td>...</td>\n",
       "      <td>...</td>\n",
       "      <td>...</td>\n",
       "      <td>...</td>\n",
       "    </tr>\n",
       "    <tr>\n",
       "      <th>192</th>\n",
       "      <td>Надиров Кирило Вадимович</td>\n",
       "      <td>не розраховується</td>\n",
       "      <td>ПЗПІ-17-9</td>\n",
       "      <td>контракт</td>\n",
       "      <td>6</td>\n",
       "    </tr>\n",
       "    <tr>\n",
       "      <th>193</th>\n",
       "      <td>Носов Олексій Валерійович</td>\n",
       "      <td>не розраховується</td>\n",
       "      <td>ПЗПІ-17-9</td>\n",
       "      <td>контракт</td>\n",
       "      <td>6</td>\n",
       "    </tr>\n",
       "    <tr>\n",
       "      <th>194</th>\n",
       "      <td>Перетяга Максим Юрійович</td>\n",
       "      <td>не розраховується</td>\n",
       "      <td>ПЗПІ-17-9</td>\n",
       "      <td>контракт</td>\n",
       "      <td>6</td>\n",
       "    </tr>\n",
       "    <tr>\n",
       "      <th>195</th>\n",
       "      <td>Полтавець Микита Юрійович</td>\n",
       "      <td>не розраховується</td>\n",
       "      <td>ПЗПІ-17-9</td>\n",
       "      <td>контракт</td>\n",
       "      <td>6</td>\n",
       "    </tr>\n",
       "    <tr>\n",
       "      <th>196</th>\n",
       "      <td>Циганок Дар`Я Андріївна</td>\n",
       "      <td>не розраховується</td>\n",
       "      <td>ПЗПІ-17-9</td>\n",
       "      <td>контракт</td>\n",
       "      <td>6</td>\n",
       "    </tr>\n",
       "  </tbody>\n",
       "</table>\n",
       "<p>1111 rows × 5 columns</p>\n",
       "</div>"
      ],
      "text/plain": [
       "                           П.І.Б            Рейтинг            Група  \\\n",
       "0    Кудінова Анна Олександрівна             98.407  ПЗПІ-17-4 (анг)   \n",
       "1      Ховрат Артем Вячеславович             98.112  ПЗПІ-17-3 (анг)   \n",
       "2    Титаренко Степан Андрійович             97.846  ПЗПІ-17-3 (анг)   \n",
       "3      Тесленко Денис Максимович             97.314  ПЗПІ-17-3 (анг)   \n",
       "4     Лузан Микита Олександрович              96.95  ПЗПІ-17-1 (анг)   \n",
       "..                           ...                ...              ...   \n",
       "192     Надиров Кирило Вадимович  не розраховується        ПЗПІ-17-9   \n",
       "193    Носов Олексій Валерійович  не розраховується        ПЗПІ-17-9   \n",
       "194     Перетяга Максим Юрійович  не розраховується        ПЗПІ-17-9   \n",
       "195    Полтавець Микита Юрійович  не розраховується        ПЗПІ-17-9   \n",
       "196      Циганок Дар`Я Андріївна  не розраховується        ПЗПІ-17-9   \n",
       "\n",
       "    Додаткова\\rінформація semester  \n",
       "0                     NaN        3  \n",
       "1                     NaN        3  \n",
       "2                     NaN        3  \n",
       "3                     NaN        3  \n",
       "4                     NaN        3  \n",
       "..                    ...      ...  \n",
       "192              контракт        6  \n",
       "193              контракт        6  \n",
       "194              контракт        6  \n",
       "195              контракт        6  \n",
       "196              контракт        6  \n",
       "\n",
       "[1111 rows x 5 columns]"
      ]
     },
     "execution_count": 8,
     "metadata": {},
     "output_type": "execute_result"
    }
   ],
   "source": [
    "data = pd.concat(dframes)\n",
    "data"
   ]
  },
  {
   "cell_type": "code",
   "execution_count": 9,
   "metadata": {},
   "outputs": [],
   "source": [
    "data.columns=['name', 'mark', 'group', 'additional_info', 'semester']\n",
    "data.loc[:, 'additional_info'] = data['additional_info'].str.replace('\\r', ' ')"
   ]
  },
  {
   "cell_type": "code",
   "execution_count": 10,
   "metadata": {},
   "outputs": [],
   "source": [
    "data.to_csv(data_path + 'data.csv')"
   ]
  },
  {
   "cell_type": "code",
   "execution_count": null,
   "metadata": {},
   "outputs": [],
   "source": []
  }
 ],
 "metadata": {
  "kernelspec": {
   "display_name": "Python 3",
   "language": "python",
   "name": "python3"
  },
  "language_info": {
   "codemirror_mode": {
    "name": "ipython",
    "version": 3
   },
   "file_extension": ".py",
   "mimetype": "text/x-python",
   "name": "python",
   "nbconvert_exporter": "python",
   "pygments_lexer": "ipython3",
   "version": "3.8.5"
  }
 },
 "nbformat": 4,
 "nbformat_minor": 4
}
